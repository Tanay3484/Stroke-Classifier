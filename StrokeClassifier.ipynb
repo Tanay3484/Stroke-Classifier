{
 "cells": [
  {
   "cell_type": "code",
   "execution_count": 1,
   "id": "caa1359b-9d15-4066-9b6f-3c862c9b589e",
   "metadata": {},
   "outputs": [],
   "source": [
    "import pandas as pd\n",
    "import matplotlib.pyplot as plt\n",
    "import seaborn as sns\n",
    "import numpy as np\n",
    "from sklearn.preprocessing import LabelBinarizer\n",
    "from imblearn.over_sampling import RandomOverSampler"
   ]
  },
  {
   "cell_type": "code",
   "execution_count": 2,
   "id": "dde9de48-0211-437d-bb57-b7469805c177",
   "metadata": {},
   "outputs": [],
   "source": [
    "from sklearn.model_selection import train_test_split\n",
    "from sklearn.preprocessing import StandardScaler\n",
    "import tensorflow as tf\n",
    "sc = StandardScaler()"
   ]
  },
  {
   "cell_type": "code",
   "execution_count": 3,
   "id": "9e9d2800-1777-4143-9454-7f3f2c243bb2",
   "metadata": {},
   "outputs": [
    {
     "data": {
      "text/html": [
       "<div>\n",
       "<style scoped>\n",
       "    .dataframe tbody tr th:only-of-type {\n",
       "        vertical-align: middle;\n",
       "    }\n",
       "\n",
       "    .dataframe tbody tr th {\n",
       "        vertical-align: top;\n",
       "    }\n",
       "\n",
       "    .dataframe thead th {\n",
       "        text-align: right;\n",
       "    }\n",
       "</style>\n",
       "<table border=\"1\" class=\"dataframe\">\n",
       "  <thead>\n",
       "    <tr style=\"text-align: right;\">\n",
       "      <th></th>\n",
       "      <th>id</th>\n",
       "      <th>gender</th>\n",
       "      <th>age</th>\n",
       "      <th>hypertension</th>\n",
       "      <th>heart_disease</th>\n",
       "      <th>ever_married</th>\n",
       "      <th>work_type</th>\n",
       "      <th>Residence_type</th>\n",
       "      <th>avg_glucose_level</th>\n",
       "      <th>bmi</th>\n",
       "      <th>smoking_status</th>\n",
       "      <th>stroke</th>\n",
       "    </tr>\n",
       "  </thead>\n",
       "  <tbody>\n",
       "    <tr>\n",
       "      <th>0</th>\n",
       "      <td>9046</td>\n",
       "      <td>Male</td>\n",
       "      <td>67.0</td>\n",
       "      <td>0</td>\n",
       "      <td>1</td>\n",
       "      <td>Yes</td>\n",
       "      <td>Private</td>\n",
       "      <td>Urban</td>\n",
       "      <td>228.69</td>\n",
       "      <td>36.6</td>\n",
       "      <td>formerly smoked</td>\n",
       "      <td>1</td>\n",
       "    </tr>\n",
       "    <tr>\n",
       "      <th>1</th>\n",
       "      <td>51676</td>\n",
       "      <td>Female</td>\n",
       "      <td>61.0</td>\n",
       "      <td>0</td>\n",
       "      <td>0</td>\n",
       "      <td>Yes</td>\n",
       "      <td>Self-employed</td>\n",
       "      <td>Rural</td>\n",
       "      <td>202.21</td>\n",
       "      <td>NaN</td>\n",
       "      <td>never smoked</td>\n",
       "      <td>1</td>\n",
       "    </tr>\n",
       "    <tr>\n",
       "      <th>2</th>\n",
       "      <td>31112</td>\n",
       "      <td>Male</td>\n",
       "      <td>80.0</td>\n",
       "      <td>0</td>\n",
       "      <td>1</td>\n",
       "      <td>Yes</td>\n",
       "      <td>Private</td>\n",
       "      <td>Rural</td>\n",
       "      <td>105.92</td>\n",
       "      <td>32.5</td>\n",
       "      <td>never smoked</td>\n",
       "      <td>1</td>\n",
       "    </tr>\n",
       "    <tr>\n",
       "      <th>3</th>\n",
       "      <td>60182</td>\n",
       "      <td>Female</td>\n",
       "      <td>49.0</td>\n",
       "      <td>0</td>\n",
       "      <td>0</td>\n",
       "      <td>Yes</td>\n",
       "      <td>Private</td>\n",
       "      <td>Urban</td>\n",
       "      <td>171.23</td>\n",
       "      <td>34.4</td>\n",
       "      <td>smokes</td>\n",
       "      <td>1</td>\n",
       "    </tr>\n",
       "    <tr>\n",
       "      <th>4</th>\n",
       "      <td>1665</td>\n",
       "      <td>Female</td>\n",
       "      <td>79.0</td>\n",
       "      <td>1</td>\n",
       "      <td>0</td>\n",
       "      <td>Yes</td>\n",
       "      <td>Self-employed</td>\n",
       "      <td>Rural</td>\n",
       "      <td>174.12</td>\n",
       "      <td>24.0</td>\n",
       "      <td>never smoked</td>\n",
       "      <td>1</td>\n",
       "    </tr>\n",
       "  </tbody>\n",
       "</table>\n",
       "</div>"
      ],
      "text/plain": [
       "      id  gender   age  hypertension  heart_disease ever_married  \\\n",
       "0   9046    Male  67.0             0              1          Yes   \n",
       "1  51676  Female  61.0             0              0          Yes   \n",
       "2  31112    Male  80.0             0              1          Yes   \n",
       "3  60182  Female  49.0             0              0          Yes   \n",
       "4   1665  Female  79.0             1              0          Yes   \n",
       "\n",
       "       work_type Residence_type  avg_glucose_level   bmi   smoking_status  \\\n",
       "0        Private          Urban             228.69  36.6  formerly smoked   \n",
       "1  Self-employed          Rural             202.21   NaN     never smoked   \n",
       "2        Private          Rural             105.92  32.5     never smoked   \n",
       "3        Private          Urban             171.23  34.4           smokes   \n",
       "4  Self-employed          Rural             174.12  24.0     never smoked   \n",
       "\n",
       "   stroke  \n",
       "0       1  \n",
       "1       1  \n",
       "2       1  \n",
       "3       1  \n",
       "4       1  "
      ]
     },
     "execution_count": 3,
     "metadata": {},
     "output_type": "execute_result"
    }
   ],
   "source": [
    "df = pd.read_csv('healthcare-dataset-stroke-data.csv')\n",
    "df.head()"
   ]
  },
  {
   "cell_type": "code",
   "execution_count": 4,
   "id": "60110408-cb4c-4c23-810f-55a932e18bbb",
   "metadata": {},
   "outputs": [
    {
     "data": {
      "image/png": "[encoded data removed]",
      "text/plain": [
       "<Figure size 432x288 with 1 Axes>"
      ]
     },
     "metadata": {},
     "output_type": "display_data"
    }
   ],
   "source": [
    "df['ever_married'].replace('Yes',1,inplace=True)\n",
    "df['ever_married'].replace('No',0,inplace=True)\n",
    "df['bmi'].fillna(df['bmi'].median(),inplace=True)\n",
    "df['work_type'].replace(to_replace=['Private','Self-employed','Govt_job','children','Never_worked','Other'],value=[1,2,3,4,5,6],inplace=True)\n",
    "df['smoking_status'].replace(to_replace=['formerly smoked', 'never smoked', 'smokes', 'Unknown'],value=[1,2,3,0],inplace=True)\n",
    "df['Residence_type'].replace(to_replace=['Rural','Urban'],value=[0,1],inplace=True)\n",
    "df['gender'].replace(to_replace=['Male','Female','Other'],value=[1,0,2],inplace=True)\n",
    "x = df.iloc[:,1:11].values\n",
    "y = df.iloc[:,11].values\n",
    "X_train,X_test,y_train,y_test = train_test_split(x,y,test_size=0.3,random_state=101)\n",
    "ros = RandomOverSampler(sampling_strategy=\"not majority\")\n",
    "X_res,y_res = ros.fit_resample(x,y) #for plotting the pie chart\n",
    "X_res_train, y_res_train = ros.fit_resample(X_train,y_train)\n",
    "X_res_test, y_res_test = ros.fit_resample(X_test,y_test)\n",
    "unique_elements, counts_elements = np.unique(y_res, return_counts=True)\n",
    "fig,ax = plt.subplots()\n",
    "ax.pie(counts_elements,labels=unique_elements,autopct=\"%.2f\")\n",
    "ax.set_facecolor(\"white\")\n",
    "plt.title(\"Oversampling\")\n",
    "X_train = sc.fit_transform(X_res_train)\n",
    "X_test = sc.transform(X_res_test)"
   ]
  },
  {
   "cell_type": "code",
   "execution_count": 5,
   "id": "10f08327-ed32-4abd-a2f2-e48210cb93b5",
   "metadata": {},
   "outputs": [
    {
     "name": "stdout",
     "output_type": "stream",
     "text": [
      "Epoch 1/35\n",
      "683/683 [==============================] - 6s 6ms/step - loss: 0.6376 - accuracy: 0.6748 - val_loss: 0.5322 - val_accuracy: 0.7351\n",
      "Epoch 2/35\n",
      "683/683 [==============================] - 4s 6ms/step - loss: 0.5575 - accuracy: 0.7321 - val_loss: 0.5186 - val_accuracy: 0.7407\n",
      "Epoch 3/35\n",
      "683/683 [==============================] - 4s 6ms/step - loss: 0.5351 - accuracy: 0.7422 - val_loss: 0.5271 - val_accuracy: 0.7503\n",
      "Epoch 4/35\n",
      "683/683 [==============================] - 4s 5ms/step - loss: 0.5181 - accuracy: 0.7479 - val_loss: 0.5155 - val_accuracy: 0.7324\n",
      "Epoch 5/35\n",
      "683/683 [==============================] - 4s 5ms/step - loss: 0.5080 - accuracy: 0.7549 - val_loss: 0.5460 - val_accuracy: 0.7106\n",
      "Epoch 6/35\n",
      "683/683 [==============================] - 4s 6ms/step - loss: 0.4984 - accuracy: 0.7575 - val_loss: 0.4915 - val_accuracy: 0.7469\n",
      "Epoch 7/35\n",
      "683/683 [==============================] - 3s 5ms/step - loss: 0.4924 - accuracy: 0.7606 - val_loss: 0.4785 - val_accuracy: 0.7590\n",
      "Epoch 8/35\n",
      "683/683 [==============================] - 4s 5ms/step - loss: 0.4864 - accuracy: 0.7630 - val_loss: 0.5358 - val_accuracy: 0.7642\n",
      "Epoch 9/35\n",
      "683/683 [==============================] - 4s 5ms/step - loss: 0.4832 - accuracy: 0.7634 - val_loss: 0.4984 - val_accuracy: 0.7417\n",
      "Epoch 10/35\n",
      "683/683 [==============================] - 4s 5ms/step - loss: 0.4753 - accuracy: 0.7734 - val_loss: 0.5246 - val_accuracy: 0.7680\n",
      "Epoch 11/35\n",
      "683/683 [==============================] - 5s 7ms/step - loss: 0.4722 - accuracy: 0.7668 - val_loss: 0.5231 - val_accuracy: 0.7614\n",
      "Epoch 12/35\n",
      "683/683 [==============================] - 4s 6ms/step - loss: 0.4685 - accuracy: 0.7701 - val_loss: 0.5024 - val_accuracy: 0.7573\n",
      "Epoch 13/35\n",
      "683/683 [==============================] - 4s 6ms/step - loss: 0.4701 - accuracy: 0.7716 - val_loss: 0.5077 - val_accuracy: 0.7645\n",
      "Epoch 14/35\n",
      "683/683 [==============================] - 4s 6ms/step - loss: 0.4937 - accuracy: 0.7606 - val_loss: 0.5220 - val_accuracy: 0.7704\n",
      "Epoch 15/35\n",
      "683/683 [==============================] - 4s 5ms/step - loss: 0.4735 - accuracy: 0.7735 - val_loss: 0.4919 - val_accuracy: 0.7548\n"
     ]
    }
   ],
   "source": [
    "X_train = np.array(X_res_train)\n",
    "y_train = np.array(y_res_train)\n",
    "y_test = np.array(y_res_test)\n",
    "X_test = np.array(X_res_test)\n",
    "model = tf.keras.Sequential([\n",
    "    tf.keras.layers.Dense(256,input_shape=(X_train.shape[1],),activation=\"relu\"),\n",
    "    tf.keras.layers.Dense(256,activation=\"relu\"),\n",
    "    tf.keras.layers.Dropout(rate=0.3),\n",
    "    tf.keras.layers.Dense(128,activation=\"relu\"),\n",
    "    tf.keras.layers.Dense(128,activation=\"relu\"),\n",
    "    tf.keras.layers.Dropout(rate=0.3),\n",
    "    tf.keras.layers.Dense(128,activation=\"relu\"),\n",
    "    tf.keras.layers.Dense(128,activation=\"relu\"),\n",
    "    tf.keras.layers.Dropout(rate=0.2),\n",
    "    tf.keras.layers.Dense(1,activation=\"sigmoid\")\n",
    "])\n",
    "\n",
    "model.compile(loss=\"binary_crossentropy\",optimizer = 'Adam',metrics=['accuracy'])\n",
    "from tensorflow.keras.callbacks import EarlyStopping\n",
    "es = EarlyStopping(monitor='val_loss', \n",
    "                                   mode='max',\n",
    "                                   patience=10,\n",
    "                                   restore_best_weights=True)\n",
    "r = model.fit(X_train,y_train,callbacks=[es],epochs=35,batch_size=10,shuffle=True,validation_data=(X_test,y_test))"
   ]
  },
  {
   "cell_type": "code",
   "execution_count": 6,
   "id": "1523ebf4-aa3e-493c-9b20-cf00da9103c7",
   "metadata": {},
   "outputs": [
    {
     "data": {
      "image/png": "[encoded data removed]",
      "text/plain": [
       "<Figure size 432x288 with 1 Axes>"
      ]
     },
     "metadata": {
      "needs_background": "light"
     },
     "output_type": "display_data"
    }
   ],
   "source": [
    "plt.plot(r.history['loss'],label='loss')\n",
    "plt.show()"
   ]
  },
  {
   "cell_type": "code",
   "execution_count": 7,
   "id": "9781e635-5de6-4aad-b5bf-b844fbeb1f4c",
   "metadata": {},
   "outputs": [
    {
     "name": "stdout",
     "output_type": "stream",
     "text": [
      "91/91 [==============================] - 0s 2ms/step\n"
     ]
    }
   ],
   "source": [
    "from sklearn.metrics import confusion_matrix\n",
    "from sklearn.metrics import classification_report\n",
    "\n",
    "preds = np.round(model.predict(X_test),0)"
   ]
  },
  {
   "cell_type": "code",
   "execution_count": 8,
   "id": "8dc0b560",
   "metadata": {},
   "outputs": [
    {
     "data": {
      "text/plain": [
       "array([[0.],\n",
       "       [0.],\n",
       "       [1.],\n",
       "       ...,\n",
       "       [1.],\n",
       "       [0.],\n",
       "       [1.]], dtype=float32)"
      ]
     },
     "execution_count": 8,
     "metadata": {},
     "output_type": "execute_result"
    }
   ],
   "source": [
    "preds"
   ]
  },
  {
   "cell_type": "code",
   "execution_count": 9,
   "id": "bea095ad-4075-4a85-9733-033017ccf579",
   "metadata": {},
   "outputs": [
    {
     "name": "stdout",
     "output_type": "stream",
     "text": [
      "[[1212  234]\n",
      " [ 603  843]]\n"
     ]
    }
   ],
   "source": [
    "print(confusion_matrix(y_test, preds))"
   ]
  },
  {
   "cell_type": "code",
   "execution_count": 10,
   "id": "22882749-24d5-4ab8-a6e5-91c1eda017d2",
   "metadata": {},
   "outputs": [
    {
     "name": "stdout",
     "output_type": "stream",
     "text": [
      "              precision    recall  f1-score   support\n",
      "\n",
      "           0       0.67      0.84      0.74      1446\n",
      "           1       0.78      0.58      0.67      1446\n",
      "\n",
      "    accuracy                           0.71      2892\n",
      "   macro avg       0.73      0.71      0.71      2892\n",
      "weighted avg       0.73      0.71      0.71      2892\n",
      "\n"
     ]
    }
   ],
   "source": [
    "print(classification_report(y_test, preds))"
   ]
  },
  {
   "cell_type": "code",
   "execution_count": 11,
   "id": "88ee64aa-0a5b-463a-85b6-9bcb4ce9bb47",
   "metadata": {},
   "outputs": [
    {
     "name": "stdout",
     "output_type": "stream",
     "text": [
      "Final Accuracy :  71.06 %\n"
     ]
    }
   ],
   "source": [
    "test_results = {}\n",
    "\n",
    "test_results['model'] = model.evaluate(\n",
    "    X_test, y_test, verbose=0)\n",
    "accuracy = '{0:.2f}'.format(test_results['model'][1]*100)\n",
    "print(\"Final Accuracy : \",accuracy,\"%\")"
   ]
  },
  {
   "cell_type": "code",
   "execution_count": 12,
   "id": "50df7ff3",
   "metadata": {},
   "outputs": [
    {
     "name": "stdout",
     "output_type": "stream",
     "text": [
      "1/1 [==============================] - 0s 21ms/step\n",
      "[0.]\n"
     ]
    }
   ],
   "source": [
    "inputs = []\n",
    "# gender = input(\"Enter your gender : (Male,Female,Other)\")\n",
    "# if (gender==\"Male\" or gender==\"male\" or gender==\"M\"):\n",
    "#     inputs.append(1)\n",
    "# elif (gender==\"Female\" or gender==\"female\" or gender==\"F\"):\n",
    "#     inputs.append(0)\n",
    "# else:\n",
    "#     inputs.append(2)\n",
    "# age = float(input(\"Enter your age : \"))\n",
    "# inputs.append(age)\n",
    "\n",
    "rest = [0,20,1,1,1,3,1,140,25.5,2]\n",
    "inputs.extend(rest)\n",
    "inputs = np.array(inputs)\n",
    "inputs = inputs.reshape(-1,10)\n",
    "inputs = sc.transform(inputs)\n",
    "prediction = np.round(model.predict(inputs),0)\n",
    "print(prediction[0])"
   ]
  },
  {
   "cell_type": "code",
   "execution_count": 13,
   "id": "395e2ca0",
   "metadata": {},
   "outputs": [
    {
     "name": "stderr",
     "output_type": "stream",
     "text": [
      "[NbConvertApp] Converting notebook StrokeClassifier.ipynb to script\n",
      "[NbConvertApp] Writing 3978 bytes to StrokeClassifier.py\n"
     ]
    }
   ],
   "source": [
    "!jupyter nbconvert --to script StrokeClassifier.ipynb"
   ]
  },
  {
   "cell_type": "code",
   "execution_count": null,
   "id": "a5986c98",
   "metadata": {},
   "outputs": [],
   "source": []
  }
 ],
 "metadata": {
  "kernelspec": {
   "display_name": "Python 3.7.9 64-bit",
   "language": "python",
   "name": "python3"
  },
  "language_info": {
   "codemirror_mode": {
    "name": "ipython",
    "version": 3
   },
   "file_extension": ".py",
   "mimetype": "text/x-python",
   "name": "python",
   "nbconvert_exporter": "python",
   "pygments_lexer": "ipython3",
   "version": "3.7.9"
  },
  "vscode": {
   "interpreter": {
    "hash": "980a64f2958df2404fa0d7c6e84c5eadfe57a704b6a6bc9d1085afbbc343affd"
   }
  }
 },
 "nbformat": 4,
 "nbformat_minor": 5
}
