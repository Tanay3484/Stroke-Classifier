{
 "cells": [
  {
   "cell_type": "code",
   "execution_count": 1,
   "id": "caa1359b-9d15-4066-9b6f-3c862c9b589e",
   "metadata": {},
   "outputs": [],
   "source": [
    "import pandas as pd\n",
    "import matplotlib.pyplot as plt\n",
    "import seaborn as sns\n",
    "import numpy as np\n",
    "from sklearn.preprocessing import LabelBinarizer\n",
    "from imblearn.over_sampling import RandomOverSampler"
   ]
  },
  {
   "cell_type": "code",
   "execution_count": 2,
   "id": "dde9de48-0211-437d-bb57-b7469805c177",
   "metadata": {},
   "outputs": [],
   "source": [
    "from sklearn.model_selection import train_test_split\n",
    "from sklearn.preprocessing import StandardScaler\n",
    "import tensorflow as tf\n",
    "sc = StandardScaler()"
   ]
  },
  {
   "cell_type": "code",
   "execution_count": 3,
   "id": "9e9d2800-1777-4143-9454-7f3f2c243bb2",
   "metadata": {},
   "outputs": [
    {
     "data": {
      "text/html": [
       "<div>\n",
       "<style scoped>\n",
       "    .dataframe tbody tr th:only-of-type {\n",
       "        vertical-align: middle;\n",
       "    }\n",
       "\n",
       "    .dataframe tbody tr th {\n",
       "        vertical-align: top;\n",
       "    }\n",
       "\n",
       "    .dataframe thead th {\n",
       "        text-align: right;\n",
       "    }\n",
       "</style>\n",
       "<table border=\"1\" class=\"dataframe\">\n",
       "  <thead>\n",
       "    <tr style=\"text-align: right;\">\n",
       "      <th></th>\n",
       "      <th>id</th>\n",
       "      <th>gender</th>\n",
       "      <th>age</th>\n",
       "      <th>hypertension</th>\n",
       "      <th>heart_disease</th>\n",
       "      <th>ever_married</th>\n",
       "      <th>work_type</th>\n",
       "      <th>Residence_type</th>\n",
       "      <th>avg_glucose_level</th>\n",
       "      <th>bmi</th>\n",
       "      <th>smoking_status</th>\n",
       "      <th>stroke</th>\n",
       "    </tr>\n",
       "  </thead>\n",
       "  <tbody>\n",
       "    <tr>\n",
       "      <th>0</th>\n",
       "      <td>9046</td>\n",
       "      <td>Male</td>\n",
       "      <td>67.0</td>\n",
       "      <td>0</td>\n",
       "      <td>1</td>\n",
       "      <td>Yes</td>\n",
       "      <td>Private</td>\n",
       "      <td>Urban</td>\n",
       "      <td>228.69</td>\n",
       "      <td>36.6</td>\n",
       "      <td>formerly smoked</td>\n",
       "      <td>1</td>\n",
       "    </tr>\n",
       "    <tr>\n",
       "      <th>1</th>\n",
       "      <td>51676</td>\n",
       "      <td>Female</td>\n",
       "      <td>61.0</td>\n",
       "      <td>0</td>\n",
       "      <td>0</td>\n",
       "      <td>Yes</td>\n",
       "      <td>Self-employed</td>\n",
       "      <td>Rural</td>\n",
       "      <td>202.21</td>\n",
       "      <td>NaN</td>\n",
       "      <td>never smoked</td>\n",
       "      <td>1</td>\n",
       "    </tr>\n",
       "    <tr>\n",
       "      <th>2</th>\n",
       "      <td>31112</td>\n",
       "      <td>Male</td>\n",
       "      <td>80.0</td>\n",
       "      <td>0</td>\n",
       "      <td>1</td>\n",
       "      <td>Yes</td>\n",
       "      <td>Private</td>\n",
       "      <td>Rural</td>\n",
       "      <td>105.92</td>\n",
       "      <td>32.5</td>\n",
       "      <td>never smoked</td>\n",
       "      <td>1</td>\n",
       "    </tr>\n",
       "    <tr>\n",
       "      <th>3</th>\n",
       "      <td>60182</td>\n",
       "      <td>Female</td>\n",
       "      <td>49.0</td>\n",
       "      <td>0</td>\n",
       "      <td>0</td>\n",
       "      <td>Yes</td>\n",
       "      <td>Private</td>\n",
       "      <td>Urban</td>\n",
       "      <td>171.23</td>\n",
       "      <td>34.4</td>\n",
       "      <td>smokes</td>\n",
       "      <td>1</td>\n",
       "    </tr>\n",
       "    <tr>\n",
       "      <th>4</th>\n",
       "      <td>1665</td>\n",
       "      <td>Female</td>\n",
       "      <td>79.0</td>\n",
       "      <td>1</td>\n",
       "      <td>0</td>\n",
       "      <td>Yes</td>\n",
       "      <td>Self-employed</td>\n",
       "      <td>Rural</td>\n",
       "      <td>174.12</td>\n",
       "      <td>24.0</td>\n",
       "      <td>never smoked</td>\n",
       "      <td>1</td>\n",
       "    </tr>\n",
       "  </tbody>\n",
       "</table>\n",
       "</div>"
      ],
      "text/plain": [
       "      id  gender   age  hypertension  heart_disease ever_married  \\\n",
       "0   9046    Male  67.0             0              1          Yes   \n",
       "1  51676  Female  61.0             0              0          Yes   \n",
       "2  31112    Male  80.0             0              1          Yes   \n",
       "3  60182  Female  49.0             0              0          Yes   \n",
       "4   1665  Female  79.0             1              0          Yes   \n",
       "\n",
       "       work_type Residence_type  avg_glucose_level   bmi   smoking_status  \\\n",
       "0        Private          Urban             228.69  36.6  formerly smoked   \n",
       "1  Self-employed          Rural             202.21   NaN     never smoked   \n",
       "2        Private          Rural             105.92  32.5     never smoked   \n",
       "3        Private          Urban             171.23  34.4           smokes   \n",
       "4  Self-employed          Rural             174.12  24.0     never smoked   \n",
       "\n",
       "   stroke  \n",
       "0       1  \n",
       "1       1  \n",
       "2       1  \n",
       "3       1  \n",
       "4       1  "
      ]
     },
     "execution_count": 3,
     "metadata": {},
     "output_type": "execute_result"
    }
   ],
   "source": [
    "df = pd.read_csv('healthcare-dataset-stroke-data.csv')\n",
    "df.head()"
   ]
  },
  {
   "cell_type": "code",
   "execution_count": 4,
   "id": "60110408-cb4c-4c23-810f-55a932e18bbb",
   "metadata": {},
   "outputs": [],
   "source": [
    "df['ever_married'].replace('Yes',1,inplace=True)\n",
    "df['ever_married'].replace('No',0,inplace=True)\n",
    "df['bmi'].fillna(df['bmi'].median(),inplace=True)\n",
    "df['work_type'].replace(to_replace=['Private','Self-employed','Govt_job','children','Never_worked','Other'],value=[1,2,3,4,5,6],inplace=True)\n",
    "df['smoking_status'].replace(to_replace=['formerly smoked', 'never smoked', 'smokes', 'Unknown'],value=[1,2,3,0],inplace=True)\n",
    "df['Residence_type'].replace(to_replace=['Rural','Urban'],value=[0,1],inplace=True)\n",
    "df['gender'].replace(to_replace=['Male','Female','Other'],value=[1,0,2],inplace=True)\n",
    "x = df.iloc[:,1:11].values\n",
    "y = df.iloc[:,11].values\n",
    "X_train,X_test,y_train,y_test = train_test_split(x,y,test_size=0.3,random_state=101)\n",
    "ros = RandomOverSampler(sampling_strategy=\"not majority\")\n",
    "X_res,y_res = ros.fit_resample(x,y) #for plotting the pie chart\n",
    "X_res_train, y_res_train = ros.fit_resample(X_train,y_train)\n",
    "X_res_test, y_res_test = ros.fit_resample(X_test,y_test)\n",
    "X_train = sc.fit_transform(X_res_train)\n",
    "X_test = sc.transform(X_res_test)"
   ]
  },
  {
   "cell_type": "code",
   "execution_count": 5,
   "id": "10f08327-ed32-4abd-a2f2-e48210cb93b5",
   "metadata": {},
   "outputs": [
    {
     "name": "stdout",
     "output_type": "stream",
     "text": [
      "Epoch 1/45\n",
      "683/683 [==============================] - 6s 4ms/step - loss: 0.6307 - accuracy: 0.6719 - val_loss: 0.5306 - val_accuracy: 0.7258\n",
      "Epoch 2/45\n",
      "683/683 [==============================] - 3s 4ms/step - loss: 0.5560 - accuracy: 0.7316 - val_loss: 0.5658 - val_accuracy: 0.7317\n",
      "Epoch 3/45\n",
      "683/683 [==============================] - 3s 4ms/step - loss: 0.5343 - accuracy: 0.7433 - val_loss: 0.5387 - val_accuracy: 0.7486\n",
      "Epoch 4/45\n",
      "683/683 [==============================] - 3s 4ms/step - loss: 0.5177 - accuracy: 0.7512 - val_loss: 0.5130 - val_accuracy: 0.7524\n",
      "Epoch 5/45\n",
      "683/683 [==============================] - 3s 4ms/step - loss: 0.5085 - accuracy: 0.7536 - val_loss: 0.5354 - val_accuracy: 0.7420\n",
      "Epoch 6/45\n",
      "683/683 [==============================] - 3s 4ms/step - loss: 0.4995 - accuracy: 0.7534 - val_loss: 0.5156 - val_accuracy: 0.7362\n",
      "Epoch 7/45\n",
      "683/683 [==============================] - 3s 4ms/step - loss: 0.5032 - accuracy: 0.7549 - val_loss: 0.5407 - val_accuracy: 0.7310\n",
      "Epoch 8/45\n",
      "683/683 [==============================] - 3s 4ms/step - loss: 0.4951 - accuracy: 0.7577 - val_loss: 0.5239 - val_accuracy: 0.7313\n",
      "Epoch 9/45\n",
      "683/683 [==============================] - 3s 4ms/step - loss: 0.4831 - accuracy: 0.7628 - val_loss: 0.5344 - val_accuracy: 0.7493\n",
      "Epoch 10/45\n",
      "683/683 [==============================] - 3s 4ms/step - loss: 0.4771 - accuracy: 0.7640 - val_loss: 0.5243 - val_accuracy: 0.7414\n",
      "Epoch 11/45\n",
      "683/683 [==============================] - 3s 4ms/step - loss: 0.4709 - accuracy: 0.7646 - val_loss: 0.6368 - val_accuracy: 0.7313\n",
      "Epoch 12/45\n",
      "683/683 [==============================] - 3s 4ms/step - loss: 0.4746 - accuracy: 0.7684 - val_loss: 0.6741 - val_accuracy: 0.7317\n",
      "Epoch 13/45\n",
      "683/683 [==============================] - 3s 4ms/step - loss: 0.4743 - accuracy: 0.7676 - val_loss: 0.5931 - val_accuracy: 0.7293\n",
      "Epoch 14/45\n",
      "683/683 [==============================] - 3s 4ms/step - loss: 0.4651 - accuracy: 0.7728 - val_loss: 0.7191 - val_accuracy: 0.7047\n",
      "Epoch 15/45\n",
      "683/683 [==============================] - 3s 4ms/step - loss: 0.4594 - accuracy: 0.7805 - val_loss: 0.5616 - val_accuracy: 0.7476\n",
      "Epoch 16/45\n",
      "683/683 [==============================] - 3s 4ms/step - loss: 0.4591 - accuracy: 0.7770 - val_loss: 0.5616 - val_accuracy: 0.7562\n",
      "Epoch 17/45\n",
      "683/683 [==============================] - 3s 4ms/step - loss: 0.4608 - accuracy: 0.7717 - val_loss: 0.6133 - val_accuracy: 0.7382\n",
      "Epoch 18/45\n",
      "683/683 [==============================] - 3s 4ms/step - loss: 0.4536 - accuracy: 0.7808 - val_loss: 0.7123 - val_accuracy: 0.7306\n",
      "Epoch 19/45\n",
      "683/683 [==============================] - 3s 4ms/step - loss: 0.4539 - accuracy: 0.7776 - val_loss: 0.7728 - val_accuracy: 0.7362\n",
      "Epoch 20/45\n",
      "683/683 [==============================] - 3s 4ms/step - loss: 0.4508 - accuracy: 0.7779 - val_loss: 0.7772 - val_accuracy: 0.7334\n",
      "Epoch 21/45\n",
      "683/683 [==============================] - 3s 4ms/step - loss: 0.4563 - accuracy: 0.7782 - val_loss: 0.6600 - val_accuracy: 0.7230\n",
      "Epoch 22/45\n",
      "683/683 [==============================] - 3s 4ms/step - loss: 0.4501 - accuracy: 0.7779 - val_loss: 0.7097 - val_accuracy: 0.7237\n",
      "Epoch 23/45\n",
      "683/683 [==============================] - 3s 4ms/step - loss: 0.4521 - accuracy: 0.7836 - val_loss: 0.6309 - val_accuracy: 0.7521\n",
      "Epoch 24/45\n",
      "683/683 [==============================] - 3s 4ms/step - loss: 0.4422 - accuracy: 0.7839 - val_loss: 0.9783 - val_accuracy: 0.7414\n",
      "Epoch 25/45\n",
      "683/683 [==============================] - 3s 4ms/step - loss: 0.4398 - accuracy: 0.7890 - val_loss: 1.0338 - val_accuracy: 0.7331\n",
      "Epoch 26/45\n",
      "683/683 [==============================] - 3s 4ms/step - loss: 0.4384 - accuracy: 0.7878 - val_loss: 0.9811 - val_accuracy: 0.7351\n",
      "Epoch 27/45\n",
      "683/683 [==============================] - 3s 4ms/step - loss: 0.4459 - accuracy: 0.7830 - val_loss: 0.5765 - val_accuracy: 0.7389\n",
      "Epoch 28/45\n",
      "683/683 [==============================] - 3s 4ms/step - loss: 0.4449 - accuracy: 0.7842 - val_loss: 0.5594 - val_accuracy: 0.7293\n",
      "Epoch 29/45\n",
      "683/683 [==============================] - 3s 4ms/step - loss: 0.4496 - accuracy: 0.7848 - val_loss: 0.6120 - val_accuracy: 0.7348\n",
      "Epoch 30/45\n",
      "683/683 [==============================] - 3s 4ms/step - loss: 0.4351 - accuracy: 0.7865 - val_loss: 0.8889 - val_accuracy: 0.7379\n",
      "Epoch 31/45\n",
      "683/683 [==============================] - 3s 4ms/step - loss: 0.4427 - accuracy: 0.7921 - val_loss: 0.8077 - val_accuracy: 0.7472\n",
      "Epoch 32/45\n",
      "683/683 [==============================] - 3s 4ms/step - loss: 0.4283 - accuracy: 0.7909 - val_loss: 0.8471 - val_accuracy: 0.7441\n",
      "Epoch 33/45\n",
      "683/683 [==============================] - 3s 4ms/step - loss: 0.4343 - accuracy: 0.7883 - val_loss: 1.0591 - val_accuracy: 0.7313\n",
      "Epoch 34/45\n",
      "683/683 [==============================] - 3s 4ms/step - loss: 0.4284 - accuracy: 0.7922 - val_loss: 0.9034 - val_accuracy: 0.7251\n",
      "Epoch 35/45\n",
      "683/683 [==============================] - 3s 4ms/step - loss: 0.4390 - accuracy: 0.7862 - val_loss: 1.5938 - val_accuracy: 0.7396\n",
      "Epoch 36/45\n",
      "683/683 [==============================] - 3s 4ms/step - loss: 0.4260 - accuracy: 0.7958 - val_loss: 1.0547 - val_accuracy: 0.7320\n",
      "Epoch 37/45\n",
      "683/683 [==============================] - 3s 4ms/step - loss: 0.4203 - accuracy: 0.7981 - val_loss: 1.3565 - val_accuracy: 0.7275\n",
      "Epoch 38/45\n",
      "683/683 [==============================] - 3s 4ms/step - loss: 0.4313 - accuracy: 0.7924 - val_loss: 1.5280 - val_accuracy: 0.7268\n",
      "Epoch 39/45\n",
      "683/683 [==============================] - 3s 4ms/step - loss: 0.4297 - accuracy: 0.7918 - val_loss: 0.9004 - val_accuracy: 0.7213\n",
      "Epoch 40/45\n",
      "683/683 [==============================] - 3s 4ms/step - loss: 0.4176 - accuracy: 0.7958 - val_loss: 1.1160 - val_accuracy: 0.7517\n",
      "Epoch 41/45\n",
      "683/683 [==============================] - 3s 4ms/step - loss: 0.4266 - accuracy: 0.7884 - val_loss: 1.5462 - val_accuracy: 0.7331\n",
      "Epoch 42/45\n",
      "683/683 [==============================] - 3s 4ms/step - loss: 0.4266 - accuracy: 0.7925 - val_loss: 1.0323 - val_accuracy: 0.7424\n",
      "Epoch 43/45\n",
      "683/683 [==============================] - 3s 4ms/step - loss: 0.4219 - accuracy: 0.7953 - val_loss: 0.6611 - val_accuracy: 0.7389\n",
      "Epoch 44/45\n",
      "683/683 [==============================] - 3s 4ms/step - loss: 0.4330 - accuracy: 0.7941 - val_loss: 1.6499 - val_accuracy: 0.7507\n",
      "Epoch 45/45\n",
      "683/683 [==============================] - 3s 4ms/step - loss: 0.4315 - accuracy: 0.7917 - val_loss: 1.2591 - val_accuracy: 0.7151\n"
     ]
    }
   ],
   "source": [
    "X_train = np.array(X_res_train)\n",
    "y_train = np.array(y_res_train)\n",
    "y_test = np.array(y_res_test)\n",
    "X_test = np.array(X_res_test)\n",
    "model = tf.keras.Sequential([\n",
    "    tf.keras.layers.Dense(256,input_shape=(X_train.shape[1],),activation=\"relu\"),\n",
    "    tf.keras.layers.Dense(256,activation=\"relu\"),\n",
    "    tf.keras.layers.Dropout(rate=0.3),\n",
    "    tf.keras.layers.Dense(128,activation=\"relu\"),\n",
    "    tf.keras.layers.Dense(128,activation=\"relu\"),\n",
    "    tf.keras.layers.Dropout(rate=0.3),\n",
    "    tf.keras.layers.Dense(128,activation=\"relu\"),\n",
    "    tf.keras.layers.Dense(128,activation=\"relu\"),\n",
    "    tf.keras.layers.Dropout(rate=0.2),\n",
    "    tf.keras.layers.Dense(1,activation=\"sigmoid\")\n",
    "])\n",
    "\n",
    "model.compile(loss=\"binary_crossentropy\",optimizer = 'Adam',metrics=['accuracy'])\n",
    "from tensorflow.keras.callbacks import EarlyStopping\n",
    "es = EarlyStopping(monitor='val_loss', \n",
    "                                   mode='max',\n",
    "                                   patience=10,\n",
    "                                   restore_best_weights=True)\n",
    "r = model.fit(X_train,y_train,callbacks=[es],epochs=45,batch_size=10,shuffle=True,validation_data=(X_test,y_test))"
   ]
  },
  {
   "cell_type": "code",
   "execution_count": 6,
   "id": "1523ebf4-aa3e-493c-9b20-cf00da9103c7",
   "metadata": {},
   "outputs": [
    {
     "data": {
      "image/png": "[encoded data removed]",
      "text/plain": [
       "<Figure size 432x288 with 1 Axes>"
      ]
     },
     "metadata": {
      "needs_background": "light"
     },
     "output_type": "display_data"
    }
   ],
   "source": [
    "plt.plot(r.history['loss'],label='loss')\n",
    "plt.show()"
   ]
  },
  {
   "cell_type": "code",
   "execution_count": 7,
   "id": "9781e635-5de6-4aad-b5bf-b844fbeb1f4c",
   "metadata": {},
   "outputs": [
    {
     "name": "stdout",
     "output_type": "stream",
     "text": [
      "91/91 [==============================] - 0s 1ms/step\n"
     ]
    }
   ],
   "source": [
    "from sklearn.metrics import confusion_matrix\n",
    "from sklearn.metrics import classification_report\n",
    "\n",
    "preds = np.round(model.predict(X_test),0)"
   ]
  },
  {
   "cell_type": "code",
   "execution_count": 8,
   "id": "8dc0b560",
   "metadata": {},
   "outputs": [
    {
     "data": {
      "text/plain": [
       "array([[0.],\n",
       "       [0.],\n",
       "       [1.],\n",
       "       ...,\n",
       "       [0.],\n",
       "       [0.],\n",
       "       [0.]], dtype=float32)"
      ]
     },
     "execution_count": 8,
     "metadata": {},
     "output_type": "execute_result"
    }
   ],
   "source": [
    "preds"
   ]
  },
  {
   "cell_type": "code",
   "execution_count": 9,
   "id": "bea095ad-4075-4a85-9733-033017ccf579",
   "metadata": {},
   "outputs": [
    {
     "name": "stdout",
     "output_type": "stream",
     "text": [
      "[[1147  299]\n",
      " [ 525  921]]\n"
     ]
    }
   ],
   "source": [
    "print(confusion_matrix(y_test, preds))"
   ]
  },
  {
   "cell_type": "code",
   "execution_count": 10,
   "id": "22882749-24d5-4ab8-a6e5-91c1eda017d2",
   "metadata": {},
   "outputs": [
    {
     "name": "stdout",
     "output_type": "stream",
     "text": [
      "              precision    recall  f1-score   support\n",
      "\n",
      "           0       0.69      0.79      0.74      1446\n",
      "           1       0.75      0.64      0.69      1446\n",
      "\n",
      "    accuracy                           0.72      2892\n",
      "   macro avg       0.72      0.72      0.71      2892\n",
      "weighted avg       0.72      0.72      0.71      2892\n",
      "\n"
     ]
    }
   ],
   "source": [
    "print(classification_report(y_test, preds))"
   ]
  },
  {
   "cell_type": "code",
   "execution_count": 11,
   "id": "88ee64aa-0a5b-463a-85b6-9bcb4ce9bb47",
   "metadata": {},
   "outputs": [
    {
     "name": "stdout",
     "output_type": "stream",
     "text": [
      "Final Accuracy :  71.51 %\n"
     ]
    }
   ],
   "source": [
    "test_results = {}\n",
    "\n",
    "test_results['model'] = model.evaluate(\n",
    "    X_test, y_test, verbose=0)\n",
    "accuracy = '{0:.2f}'.format(test_results['model'][1]*100)\n",
    "print(\"Final Accuracy : \",accuracy,\"%\")"
   ]
  },
  {
   "cell_type": "code",
   "execution_count": 12,
   "id": "50df7ff3",
   "metadata": {},
   "outputs": [
    {
     "name": "stdout",
     "output_type": "stream",
     "text": [
      "1/1 [==============================] - 0s 18ms/step\n",
      "[1.]\n"
     ]
    }
   ],
   "source": [
    "inputs = []\n",
    "rest = [0,20,1,1,1,3,1,140,25.5,2]\n",
    "inputs.extend(rest)\n",
    "inputs = np.array(inputs)\n",
    "inputs = inputs.reshape(-1,10)\n",
    "inputs = sc.transform(inputs)\n",
    "prediction = np.round(model.predict(inputs),0)\n",
    "print(prediction[0])"
   ]
  },
  {
   "cell_type": "code",
   "execution_count": null,
   "id": "395e2ca0",
   "metadata": {},
   "outputs": [],
   "source": [
    "# gender = input(\"Enter your gender : (Male,Female,Other)\")\n",
    "# if (gender==\"Male\" or gender==\"male\" or gender==\"M\"):\n",
    "#     inputs.append(1)\n",
    "# elif (gender==\"Female\" or gender==\"female\" or gender==\"F\"):\n",
    "#     inputs.append(0)\n",
    "# else:\n",
    "#     inputs.append(2)\n",
    "# age = float(input(\"Enter your age : \"))\n",
    "# inputs.append(age)"
   ]
  },
  {
   "cell_type": "code",
   "execution_count": null,
   "id": "a5986c98",
   "metadata": {},
   "outputs": [],
   "source": []
  }
 ],
 "metadata": {
  "kernelspec": {
   "display_name": "Python 3.7.9 64-bit",
   "language": "python",
   "name": "python3"
  },
  "language_info": {
   "codemirror_mode": {
    "name": "ipython",
    "version": 3
   },
   "file_extension": ".py",
   "mimetype": "text/x-python",
   "name": "python",
   "nbconvert_exporter": "python",
   "pygments_lexer": "ipython3",
   "version": "3.7.9"
  },
  "vscode": {
   "interpreter": {
    "hash": "980a64f2958df2404fa0d7c6e84c5eadfe57a704b6a6bc9d1085afbbc343affd"
   }
  }
 },
 "nbformat": 4,
 "nbformat_minor": 5
}
